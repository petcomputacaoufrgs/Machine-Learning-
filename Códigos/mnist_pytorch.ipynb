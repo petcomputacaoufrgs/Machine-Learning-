{
 "cells": [
  {
   "cell_type": "code",
   "execution_count": 17,
   "metadata": {},
   "outputs": [],
   "source": [
    "import torch\n",
    "import torch.nn as nn\n",
    "import torch.optim as optim\n",
    "import matplotlib.pyplot as plt\n",
    "from tqdm import tqdm\n",
    "from torchvision.datasets import MNIST\n",
    "from torch.utils.data import DataLoader\n",
    "import torchvision.transforms as transforms"
   ]
  },
  {
   "cell_type": "markdown",
   "metadata": {},
   "source": [
    "Nesse notebook, será construído uma rede neural com o Pytorch que consegue reconhecer as imagens dos números do conjunto de dados [MNIST](https://en.wikipedia.org/wiki/MNIST_database)."
   ]
  },
  {
   "cell_type": "markdown",
   "metadata": {},
   "source": [
    "#### Definições de parâmetros"
   ]
  },
  {
   "cell_type": "code",
   "execution_count": 18,
   "metadata": {},
   "outputs": [],
   "source": [
    "INPUT_SIZE = 784        # Número de pixeis na imagem (28 x 28)\n",
    "OUTPUT_SIZE = 10        # Número de classes (0, 1, 2, ...9) "
   ]
  },
  {
   "cell_type": "markdown",
   "metadata": {},
   "source": [
    "#### Visualizando a vetorização da entrada\n",
    "![SegmentLocal](Imagens/mnist_pytorch_3b1b_28x28.gif \"segment\")"
   ]
  },
  {
   "cell_type": "markdown",
   "metadata": {},
   "source": [
    "##### Definições de Hiperpârametros"
   ]
  },
  {
   "cell_type": "code",
   "execution_count": 19,
   "metadata": {},
   "outputs": [],
   "source": [
    "LEARNING_RATE = 0.005   # Taxa de aprendizado da rede\n",
    "EPOCHS = 10             # Quantos vezes a rede passa pelo conjunto de dados\n",
    "BATCH_SIZE = 64         # Número de imagens passados para rede de uma só vez\n",
    "HIDDEN_SIZE = 64        # Número de neurônios nas camadas"
   ]
  },
  {
   "cell_type": "markdown",
   "metadata": {},
   "source": [
    "##### Definindo a classe da rede neural"
   ]
  },
  {
   "cell_type": "code",
   "execution_count": 20,
   "metadata": {},
   "outputs": [],
   "source": [
    "class NeuralNetwork(nn.Module):\n",
    "    def __init__(self, input_size, hidden_size, output_size):   # Definindo as camadas da rede\n",
    "        super().__init__()                                      \n",
    "        self.linear1 = nn.Linear(input_size, hidden_size)       # Primeira camada linear\n",
    "        self.relu1 = nn.ReLU()                                  # Função de ativação da primeira camada\n",
    "        self.linear2 = nn.Linear(hidden_size, hidden_size)      # Segunda camada linear                     \n",
    "        self.relu2 = nn.ReLU()                                  # Função de ativação da segunda camada\n",
    "        self.linear3 = nn.Linear(hidden_size, output_size)      # Camada de saída\n",
    "\n",
    "    def forward(self, x):                                       # Definindo o foward propagation\n",
    "        x = torch.flatten(x, start_dim=1)                       # Tranformando a matriz de 28x28 para uma array de 784 elementos\n",
    "        x = self.linear1(x)                                     # Passando pela primeira camada\n",
    "        x = self.relu1(x)                                       # Função de ativação da primeira camada\n",
    "        x = self.linear2(x)                                     # Passando pela segunda camada\n",
    "        x = self.relu2(x)                                       # Função de ativação da segunda camada\n",
    "        x = self.linear3(x)                                     # Passando pela última camada\n",
    "        return x"
   ]
  },
  {
   "cell_type": "markdown",
   "metadata": {},
   "source": [
    "#### Visualizando a rede neural\n",
    "![SegmentLocal](Imagens/mnist_pytorch_3b1b.gif \"segment\")"
   ]
  },
  {
   "cell_type": "markdown",
   "metadata": {},
   "source": [
    "#### Datasets"
   ]
  },
  {
   "cell_type": "code",
   "execution_count": 21,
   "metadata": {},
   "outputs": [],
   "source": [
    "mnist_train = MNIST(root='./data', train=True, download=True, transform=transforms.ToTensor())      # Imagens de treino (60000)\n",
    "mnist_test = MNIST(root='./data', train=False, download=True, transform=transforms.ToTensor())      # Imagens de teste  (10000)"
   ]
  },
  {
   "cell_type": "markdown",
   "metadata": {},
   "source": [
    "#### Instanciando objetos"
   ]
  },
  {
   "cell_type": "code",
   "execution_count": 22,
   "metadata": {},
   "outputs": [],
   "source": [
    "model = NeuralNetwork(INPUT_SIZE, HIDDEN_SIZE, OUTPUT_SIZE)     # Instanciando a rede\n",
    "criterion = nn.CrossEntropyLoss()                               # Instanciando a função custo \n",
    "optimizer = optim.Adam(model.parameters(), LEARNING_RATE)       # Instanciando a função de otimização"
   ]
  },
  {
   "cell_type": "markdown",
   "metadata": {},
   "source": [
    "#### Loop de treino"
   ]
  },
  {
   "cell_type": "code",
   "execution_count": 23,
   "metadata": {},
   "outputs": [
    {
     "name": "stderr",
     "output_type": "stream",
     "text": [
      "100%|██████████| 10/10 [00:59<00:00,  5.93s/it]\n"
     ]
    },
    {
     "data": {
      "image/png": "[encoded data removed]",
      "text/plain": [
       "<Figure size 432x288 with 1 Axes>"
      ]
     },
     "metadata": {
      "needs_background": "light"
     },
     "output_type": "display_data"
    }
   ],
   "source": [
    "mnist_dataloader = DataLoader(mnist_train, batch_size=BATCH_SIZE, drop_last=True)\n",
    "\n",
    "losses = []\n",
    "for epoch in tqdm(range(EPOCHS)):                                   # Iterando o numero de épocas\n",
    "    total_loss = 0                                                  # Inicializando a variavel do custo\n",
    "    for image, labels in mnist_dataloader:                          # Iterando cada imagen do dataset de treino\n",
    "        prediction = model(image)                                   # Forward propagation\n",
    "        loss = criterion(prediction, labels)                        # Calculando a loss\n",
    "        total_loss += loss.item()                                   # Atualizando a loss total\n",
    "        optimizer.zero_grad()                                       # Zerando os gradientes\n",
    "        loss.backward()                                             # Backpropagation\n",
    "        optimizer.step()                                            # Atualizando os pessos\n",
    "    losses.append(total_loss / (len(mnist_train) / BATCH_SIZE))     # Inserindo elentos na lista \n",
    "plt.plot(losses)                                                    # Plotando o loss de cada época\n",
    "plt.show()"
   ]
  },
  {
   "cell_type": "markdown",
   "metadata": {},
   "source": [
    "#### Loop de testes"
   ]
  },
  {
   "cell_type": "code",
   "execution_count": 24,
   "metadata": {},
   "outputs": [
    {
     "name": "stdout",
     "output_type": "stream",
     "text": [
      "Percentage of correct answers: 95.70%\n"
     ]
    }
   ],
   "source": [
    "mnist_dataloader = DataLoader(mnist_test, batch_size=1, drop_last=True)\n",
    "\n",
    "with torch.no_grad():\n",
    "    total_correct = 0                                              # Inicializando a variavel dos acertos\n",
    "    for image, label in mnist_dataloader:                          # Iterando cada imagen do dataset de teste\n",
    "        prediction = model(image)                                  # Forward propagation\n",
    "        index = torch.argmax(prediction)                           # Recebe o numero previsto\n",
    "        if index == label.item():                                  # Verifica se o numero está certo\n",
    "            total_correct += 1\n",
    "    print(f\"Percentage of correct answers: {((total_correct*100)/len(mnist_test)):.2f}%\")\n"
   ]
  }
 ],
 "metadata": {
  "interpreter": {
   "hash": "3763ad9f89648d847e6f5401e1219410b4a0054c5a073f5da0c68452446768ec"
  },
  "kernelspec": {
   "display_name": "Python 3.10.4 64-bit",
   "language": "python",
   "name": "python3"
  },
  "language_info": {
   "codemirror_mode": {
    "name": "ipython",
    "version": 3
   },
   "file_extension": ".py",
   "mimetype": "text/x-python",
   "name": "python",
   "nbconvert_exporter": "python",
   "pygments_lexer": "ipython3",
   "version": "3.10.4"
  },
  "orig_nbformat": 4
 },
 "nbformat": 4,
 "nbformat_minor": 2
}

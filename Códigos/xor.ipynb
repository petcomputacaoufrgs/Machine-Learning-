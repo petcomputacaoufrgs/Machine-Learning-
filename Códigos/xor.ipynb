{
 "cells": [
  {
   "cell_type": "code",
   "execution_count": 4,
   "metadata": {},
   "outputs": [],
   "source": [
    "import numpy as np\n",
    "import matplotlib.pyplot as plt\n",
    "from neural_network import NeuralNetwork, sigmoid, sigmoid_prime, MSELoss, MSELoss_prime"
   ]
  },
  {
   "cell_type": "markdown",
   "metadata": {},
   "source": [
    "## Sigmoide\n",
    "<img src=\"Imagens/sigmoid.png\" alt=\"Função Sigmoid\"\n",
    "     style=\"height: 350px; width: 600px;\"/>"
   ]
  },
  {
   "cell_type": "code",
   "execution_count": null,
   "metadata": {},
   "outputs": [],
   "source": [
    "def sigmoid(x: np.ndarray):\n",
    "    '''Função sigmoid'''\n",
    "    return 1 / (1 + np.exp(-x))\n",
    "\n",
    "\n",
    "def sigmoid_prime(x: np.ndarray):\n",
    "    '''Derivada da função sigmoid'''\n",
    "    return sigmoid(x) * (1-sigmoid(x))"
   ]
  },
  {
   "cell_type": "code",
   "execution_count": 6,
   "metadata": {},
   "outputs": [],
   "source": [
    "def MSELoss(y_hat, y):\n",
    "    return np.sum((y_hat - y)**2)/len(y_hat)\n",
    "\n",
    "\n",
    "def MSELoss_prime(y_hat, y):\n",
    "    return 2/len(y_hat)*(y_hat - y)"
   ]
  },
  {
   "cell_type": "code",
   "execution_count": 7,
   "metadata": {
    "pycharm": {
     "name": "#%%\n"
    }
   },
   "outputs": [],
   "source": [
    "lr = 0.3\n",
    "nn = NeuralNetwork(2, lr)\n",
    "nn.append_layer(2, bias=1, activation=sigmoid, activation_prime=sigmoid_prime)\n",
    "nn.append_layer(1, bias=1, activation=sigmoid, activation_prime=sigmoid_prime)\n",
    "\n",
    "X = np.array([[0,0], [1, 0], [1, 1], [0, 1]])\n",
    "y = np.array([0, 1, 0, 1])"
   ]
  },
  {
   "cell_type": "code",
   "execution_count": 8,
   "metadata": {},
   "outputs": [
    {
     "name": "stdout",
     "output_type": "stream",
     "text": [
      "Epoch 100 - Loss: 1.0658391161935377\n",
      "Epoch 200 - Loss: 1.059995068593886\n",
      "Epoch 300 - Loss: 1.0550209963619233\n",
      "Epoch 400 - Loss: 1.0488785255545183\n",
      "Epoch 500 - Loss: 1.034771743636276\n",
      "Epoch 600 - Loss: 0.9877584101456942\n",
      "Epoch 700 - Loss: 0.8939399274717182\n",
      "Epoch 800 - Loss: 0.8135365866170756\n",
      "Epoch 900 - Loss: 0.770516792380298\n",
      "Epoch 1000 - Loss: 0.7476768065013096\n"
     ]
    },
    {
     "data": {
      "image/png": "[encoded data removed]",
      "text/plain": [
       "<Figure size 432x288 with 1 Axes>"
      ]
     },
     "metadata": {
      "needs_background": "light"
     },
     "output_type": "display_data"
    }
   ],
   "source": [
    "losses = []\n",
    "\n",
    "for epoch in range(1000):\n",
    "    total_loss = 0\n",
    "    for x, y0 in zip(X, y):\n",
    "        predicted = nn.forward(x.reshape(1,-1))\n",
    "        loss = MSELoss(predicted, y0)\n",
    "        loss_derivative = MSELoss_prime(predicted, y0)\n",
    "        nn.backward(loss_derivative)\n",
    "        total_loss += loss\n",
    "    if (epoch + 1) % 100 == 0:\n",
    "        print(f\"Epoch {epoch+1} - Loss: {total_loss}\")\n",
    "    losses.append(total_loss)\n",
    "\n",
    "plt.plot(losses)\n",
    "plt.show()"
   ]
  },
  {
   "cell_type": "code",
   "execution_count": 9,
   "metadata": {},
   "outputs": [],
   "source": [
    "def predict():\n",
    "    i1 = int(input())\n",
    "    i2 = int(input())\n",
    "    predicted = nn.forward([i1, i2])\n",
    "    print(f\"Entrada: {i1}, {i2}\\nXOR: {round(predicted[0][0])}\")"
   ]
  },
  {
   "cell_type": "code",
   "execution_count": 10,
   "metadata": {},
   "outputs": [
    {
     "name": "stdout",
     "output_type": "stream",
     "text": [
      "1\n",
      "0\n",
      "Entrada: 1, 0\n",
      "XOR: 1\n"
     ]
    }
   ],
   "source": [
    "predict()"
   ]
  },
  {
   "cell_type": "code",
   "execution_count": null,
   "metadata": {},
   "outputs": [],
   "source": []
  },
  {
   "cell_type": "code",
   "execution_count": null,
   "metadata": {},
   "outputs": [],
   "source": []
  },
  {
   "cell_type": "code",
   "execution_count": null,
   "metadata": {},
   "outputs": [],
   "source": []
  }
 ],
 "metadata": {
  "kernelspec": {
   "display_name": "Python 3",
   "language": "python",
   "name": "python3"
  },
  "language_info": {
   "codemirror_mode": {
    "name": "ipython",
    "version": 3
   },
   "file_extension": ".py",
   "mimetype": "text/x-python",
   "name": "python",
   "nbconvert_exporter": "python",
   "pygments_lexer": "ipython3",
   "version": "3.9.6"
  }
 },
 "nbformat": 4,
 "nbformat_minor": 1
}
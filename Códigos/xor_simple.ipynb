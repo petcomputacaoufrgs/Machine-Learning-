{
 "cells": [
  {
   "cell_type": "code",
   "execution_count": 1,
   "outputs": [],
   "source": [
    "import numpy as np"
   ],
   "metadata": {
    "collapsed": false,
    "pycharm": {
     "name": "#%%\n"
    }
   }
  },
  {
   "cell_type": "code",
   "execution_count": 2,
   "outputs": [],
   "source": [
    "class Sigmoid:\n",
    "    def f(self, x):\n",
    "        return 1 / (1 + np.exp(-x))\n",
    "    def f_prime(self, x):\n",
    "        return self.f(x) * (1-self.f(x))"
   ],
   "metadata": {
    "collapsed": false,
    "pycharm": {
     "name": "#%%\n"
    }
   }
  },
  {
   "cell_type": "code",
   "execution_count": 3,
   "metadata": {
    "collapsed": true,
    "pycharm": {
     "name": "#%%\n"
    }
   },
   "outputs": [
    {
     "name": "stdout",
     "output_type": "stream",
     "text": [
      "Entrada: 0, 0 - Saída: 1\n",
      "\n",
      "Entrada: 1, 0 - Saída: 1\n",
      "\n",
      "Entrada: 1, 1 - Saída: 1\n",
      "\n",
      "Entrada: 0, 1 - Saída: 1\n",
      "\n",
      "Epoch [0] - Loss: 1.271857207160538\n",
      "Entrada: 0, 0 - Saída: 0\n",
      "\n",
      "Entrada: 1, 0 - Saída: 1\n",
      "\n",
      "Entrada: 1, 1 - Saída: 0\n",
      "\n",
      "Entrada: 0, 1 - Saída: 1\n",
      "\n",
      "Epoch [1000] - Loss: 0.0769849323373861\n",
      "Entrada: 0, 0 - Saída: 0\n",
      "\n",
      "Entrada: 1, 0 - Saída: 1\n",
      "\n",
      "Entrada: 1, 1 - Saída: 0\n",
      "\n",
      "Entrada: 0, 1 - Saída: 1\n",
      "\n",
      "Epoch [2000] - Loss: 0.021122116536784852\n",
      "Entrada: 0, 0 - Saída: 0\n",
      "\n",
      "Entrada: 1, 0 - Saída: 1\n",
      "\n",
      "Entrada: 1, 1 - Saída: 0\n",
      "\n",
      "Entrada: 0, 1 - Saída: 1\n",
      "\n",
      "Epoch [3000] - Loss: 0.01167239421045935\n",
      "Entrada: 0, 0 - Saída: 0\n",
      "\n",
      "Entrada: 1, 0 - Saída: 1\n",
      "\n",
      "Entrada: 1, 1 - Saída: 0\n",
      "\n",
      "Entrada: 0, 1 - Saída: 1\n",
      "\n",
      "Epoch [4000] - Loss: 0.007961087854751145\n"
     ]
    }
   ],
   "source": [
    "# Tabela verdade XOR\n",
    "x = [[0,0], [1, 0], [1, 1], [0, 1]]\n",
    "y = [0, 1, 0, 1]\n",
    "lr = 0.2\n",
    "b0 = 1\n",
    "b1 = 1\n",
    "w0 = np.random.randn()\n",
    "w1 = np.random.randn()\n",
    "w2 = np.random.randn()\n",
    "w3 = np.random.randn()\n",
    "w4 = np.random.randn()\n",
    "w5 = np.random.randn()\n",
    "\n",
    "sigmoid = Sigmoid()\n",
    "\n",
    "for epoch in range(5000):\n",
    "    total_loss = 0\n",
    "    for x0, y0 in zip(x,y):\n",
    "        # === Forward ===\n",
    "        x1 = x0[0]\n",
    "        x2 = x0[1]\n",
    "        z1 = x1 * w0 + x2 * w1 + b0\n",
    "        a1 = sigmoid.f(z1)\n",
    "        z2 = x1 * w2 + x2 * w3 + b0\n",
    "        a2 = sigmoid.f(z2)\n",
    "        z3 = a1 * w4 + a2 * w5 + b1\n",
    "        a = sigmoid.f(z3)\n",
    "        cost = (a - y0)**2\n",
    "        total_loss += cost\n",
    "        # === Backward ===\n",
    "        dEda = 2 * (a - y0)\n",
    "        # Pesos da última camada\n",
    "        dadz3 = sigmoid.f_prime(z3)\n",
    "        dzdb1 = 1\n",
    "        dz3dw4 = a1\n",
    "        dz3dw5 = a2\n",
    "        dEdb1 = dEda * dadz3 * dzdb1\n",
    "        dEdw4 = dEda * dadz3 * dz3dw4\n",
    "        dEdw5 = dEda * dadz3 * dz3dw5\n",
    "        # Pesos da camada oculta\n",
    "        dz3da1 = w4\n",
    "        dz3da2 = w5\n",
    "        da1dz1 = sigmoid.f_prime(z1)\n",
    "        da2dz2 = sigmoid.f_prime(z2)\n",
    "        dz1dw0 = x1\n",
    "        dz1dw1 = x2\n",
    "        dz1db0 = 1\n",
    "        dz2dw2 = x1\n",
    "        dz2dw3 = x2\n",
    "        dz2db0 = 1\n",
    "        dEdw0 = dEda * dadz3 * dz3da1 * da1dz1 * dz1dw0\n",
    "        dEdw1 = dEda * dadz3 * dz3da1 * da1dz1 * dz1dw1\n",
    "        dEdw2 = dEda * dadz3 * dz3da2 * da2dz2 * dz2dw2\n",
    "        dEdw3 = dEda * dadz3 * dz3da2 * da2dz2 * dz2dw3\n",
    "        dEdb0 = dEda * dadz3 * dz3da1 * da1dz1 * dz1db0 + dEda * dadz3 * dz3da2 * da2dz2 * dz2db0\n",
    "        # === Atualizar os pesos e bias ===\n",
    "        w0 -= lr * dEdw0\n",
    "        w1 -= lr * dEdw1\n",
    "        w2 -= lr * dEdw2\n",
    "        w3 -= lr * dEdw3\n",
    "        w4 -= lr * dEdw4\n",
    "        w5 -= lr * dEdw5\n",
    "        b0 -= lr * dEdb0\n",
    "        b1 -= lr * dEdb1\n",
    "        if epoch % 1000 == 0:\n",
    "            print(f\"Entrada: {x1}, {x2} - Saída: {round(a)}\\n\")\n",
    "    if epoch % 1000 == 0:\n",
    "        print(f\"Epoch [{epoch}] - Loss: {total_loss}\")"
   ]
  }
 ],
 "metadata": {
  "kernelspec": {
   "display_name": "Python 3",
   "language": "python",
   "name": "python3"
  },
  "language_info": {
   "codemirror_mode": {
    "name": "ipython",
    "version": 2
   },
   "file_extension": ".py",
   "mimetype": "text/x-python",
   "name": "python",
   "nbconvert_exporter": "python",
   "pygments_lexer": "ipython2",
   "version": "2.7.6"
  }
 },
 "nbformat": 4,
 "nbformat_minor": 0
}
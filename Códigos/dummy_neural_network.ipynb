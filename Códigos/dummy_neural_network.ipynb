{
 "cells": [
  {
   "cell_type": "code",
   "execution_count": 17,
   "metadata": {},
   "outputs": [],
   "source": [
    "i = 1.5\n",
    "w = 0.8\n",
    "y = 0.5\n",
    "\n",
    "epochs = 5\n",
    "lr = 0.03"
   ]
  },
  {
   "cell_type": "code",
   "execution_count": 18,
   "metadata": {},
   "outputs": [
    {
     "name": "stdout",
     "output_type": "stream",
     "text": [
      "Epoch 1 - Loss: 0.49000000000000027\n",
      "Resultado previsto: 1.2000000000000002\n",
      "Valor do peso: 0.737\n",
      "Epoch 2 - Loss: 0.36663024999999994\n",
      "Resultado previsto: 1.1055\n",
      "Valor do peso: 0.682505\n",
      "Epoch 3 - Loss: 0.2743219188062501\n",
      "Resultado previsto: 1.0237575\n",
      "Valor do peso: 0.635366825\n",
      "Epoch 4 - Loss: 0.20525451769880637\n",
      "Resultado previsto: 0.9530502375\n",
      "Valor do peso: 0.5945923036249999\n",
      "Epoch 5 - Loss: 0.1535765615051894\n",
      "Resultado previsto: 0.8918884554375\n",
      "Valor do peso: 0.559322342635625\n"
     ]
    }
   ],
   "source": [
    "for epoch in range(epochs):\n",
    "    out = i * w\n",
    "    C = (out - y)**2\n",
    "    \n",
    "    dC_dout = 2*(out - y)\n",
    "    dout_dw = i\n",
    "    dC_dw = dC_dout * dout_dw\n",
    "    \n",
    "    w -= dC_dw * lr\n",
    "    \n",
    "    print(f\"Epoch {epoch+1} - Loss: {C}\")\n",
    "    print(f\"Resultado previsto: {out}\\nValor do peso: {w}\")"
   ]
  },
  {
   "cell_type": "code",
   "execution_count": null,
   "metadata": {},
   "outputs": [],
   "source": []
  }
 ],
 "metadata": {
  "kernelspec": {
   "display_name": "Python 3",
   "language": "python",
   "name": "python3"
  },
  "language_info": {
   "codemirror_mode": {
    "name": "ipython",
    "version": 3
   },
   "file_extension": ".py",
   "mimetype": "text/x-python",
   "name": "python",
   "nbconvert_exporter": "python",
   "pygments_lexer": "ipython3",
   "version": "3.9.6"
  }
 },
 "nbformat": 4,
 "nbformat_minor": 1
}